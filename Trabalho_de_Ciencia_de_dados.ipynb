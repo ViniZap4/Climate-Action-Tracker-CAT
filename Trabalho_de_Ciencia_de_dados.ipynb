{
  "nbformat": 4,
  "nbformat_minor": 0,
  "metadata": {
    "colab": {
      "name": "Trabalho de Ciencia de dados .ipynb",
      "provenance": [],
      "collapsed_sections": [
        "FZN0xAoMfbN2",
        "8X9Nq2yphyA7"
      ],
      "toc_visible": true
    },
    "kernelspec": {
      "name": "python3",
      "display_name": "Python 3"
    },
    "language_info": {
      "name": "python"
    }
  },
  "cells": [
    {
      "cell_type": "markdown",
      "source": [
        "# Trabalho de Ciencia de dados"
      ],
      "metadata": {
        "id": "_HVkZl3Ofas6"
      }
    },
    {
      "cell_type": "markdown",
      "source": [
        "# Importando libs"
      ],
      "metadata": {
        "id": "FZN0xAoMfbN2"
      }
    },
    {
      "cell_type": "code",
      "source": [
        "import pandas as pd \n",
        "import matplotlib.pyplot as plt\n",
        "import numpy as np\n",
        "# import scikit-learn modules\n",
        "from sklearn.linear_model import LinearRegression \n",
        "from sklearn.model_selection import train_test_split\n",
        "from sklearn.metrics import mean_absolute_error, mean_squared_error"
      ],
      "metadata": {
        "id": "LNnc74QWfy8R"
      },
      "execution_count": 53,
      "outputs": []
    },
    {
      "cell_type": "markdown",
      "source": [
        "# Lendo dataset"
      ],
      "metadata": {
        "id": "H395XvhOgb-b"
      }
    },
    {
      "cell_type": "markdown",
      "source": [
        "[Dataset](https://basedosdados.org/dataset/climate-action-tracker-cat)"
      ],
      "metadata": {
        "id": "B9SDgdhg0gsb"
      }
    },
    {
      "cell_type": "code",
      "source": [
        "pathDataset = '/content/sample_data/CAT_new_portal_data_05_2022.csv'\n",
        "\n",
        "data = pd.read_csv(pathDataset)\n",
        "\n",
        "data.dropna()"
      ],
      "metadata": {
        "colab": {
          "base_uri": "https://localhost:8080/",
          "height": 419
        },
        "id": "j_AG8D8Jggi_",
        "outputId": "637642d7-5864-4e87-b94b-8f232e7ce8ef"
      },
      "execution_count": 54,
      "outputs": [
        {
          "output_type": "execute_result",
          "data": {
            "text/plain": [
              "               sector                                 indicator country  year  \\\n",
              "0         Agriculture  Agriculture activity (meat): consumption      ID  2020   \n",
              "1         Agriculture  Agriculture activity (meat): consumption      ID  2025   \n",
              "2         Agriculture  Agriculture activity (meat): consumption      ID  2020   \n",
              "3         Agriculture  Agriculture activity (meat): consumption      ID  2025   \n",
              "4         Agriculture   Agriculture activity (meat): production      ID  2020   \n",
              "...               ...                                       ...     ...   ...   \n",
              "41621  Transport Road                           EV stock shares      SA  2050   \n",
              "41622  Transport Road                           EV stock shares      SG  2050   \n",
              "41623  Transport Road                           EV stock shares      UA  2050   \n",
              "41624  Transport Road                           EV stock shares      US  2050   \n",
              "41625  Transport Road                           EV stock shares      ZA  2050   \n",
              "\n",
              "                           variable      value                   unit  \n",
              "0      projected_current_policy_min  76.640000  meat kcal / cap / day  \n",
              "1      projected_current_policy_min  81.110000  meat kcal / cap / day  \n",
              "2      projected_current_policy_max  76.640000  meat kcal / cap / day  \n",
              "3      projected_current_policy_max  81.110000  meat kcal / cap / day  \n",
              "4      projected_current_policy_min   0.039300    meat kg / cap / day  \n",
              "...                             ...        ...                    ...  \n",
              "41621  projected_current_policy_min  48.737591                      %  \n",
              "41622  projected_current_policy_min  68.196849                      %  \n",
              "41623  projected_current_policy_min  51.839816                      %  \n",
              "41624  projected_current_policy_min  63.852742                      %  \n",
              "41625  projected_current_policy_min  34.310982                      %  \n",
              "\n",
              "[41626 rows x 7 columns]"
            ],
            "text/html": [
              "\n",
              "  <div id=\"df-7a5626d9-06cc-432f-8fbc-82af373e9978\">\n",
              "    <div class=\"colab-df-container\">\n",
              "      <div>\n",
              "<style scoped>\n",
              "    .dataframe tbody tr th:only-of-type {\n",
              "        vertical-align: middle;\n",
              "    }\n",
              "\n",
              "    .dataframe tbody tr th {\n",
              "        vertical-align: top;\n",
              "    }\n",
              "\n",
              "    .dataframe thead th {\n",
              "        text-align: right;\n",
              "    }\n",
              "</style>\n",
              "<table border=\"1\" class=\"dataframe\">\n",
              "  <thead>\n",
              "    <tr style=\"text-align: right;\">\n",
              "      <th></th>\n",
              "      <th>sector</th>\n",
              "      <th>indicator</th>\n",
              "      <th>country</th>\n",
              "      <th>year</th>\n",
              "      <th>variable</th>\n",
              "      <th>value</th>\n",
              "      <th>unit</th>\n",
              "    </tr>\n",
              "  </thead>\n",
              "  <tbody>\n",
              "    <tr>\n",
              "      <th>0</th>\n",
              "      <td>Agriculture</td>\n",
              "      <td>Agriculture activity (meat): consumption</td>\n",
              "      <td>ID</td>\n",
              "      <td>2020</td>\n",
              "      <td>projected_current_policy_min</td>\n",
              "      <td>76.640000</td>\n",
              "      <td>meat kcal / cap / day</td>\n",
              "    </tr>\n",
              "    <tr>\n",
              "      <th>1</th>\n",
              "      <td>Agriculture</td>\n",
              "      <td>Agriculture activity (meat): consumption</td>\n",
              "      <td>ID</td>\n",
              "      <td>2025</td>\n",
              "      <td>projected_current_policy_min</td>\n",
              "      <td>81.110000</td>\n",
              "      <td>meat kcal / cap / day</td>\n",
              "    </tr>\n",
              "    <tr>\n",
              "      <th>2</th>\n",
              "      <td>Agriculture</td>\n",
              "      <td>Agriculture activity (meat): consumption</td>\n",
              "      <td>ID</td>\n",
              "      <td>2020</td>\n",
              "      <td>projected_current_policy_max</td>\n",
              "      <td>76.640000</td>\n",
              "      <td>meat kcal / cap / day</td>\n",
              "    </tr>\n",
              "    <tr>\n",
              "      <th>3</th>\n",
              "      <td>Agriculture</td>\n",
              "      <td>Agriculture activity (meat): consumption</td>\n",
              "      <td>ID</td>\n",
              "      <td>2025</td>\n",
              "      <td>projected_current_policy_max</td>\n",
              "      <td>81.110000</td>\n",
              "      <td>meat kcal / cap / day</td>\n",
              "    </tr>\n",
              "    <tr>\n",
              "      <th>4</th>\n",
              "      <td>Agriculture</td>\n",
              "      <td>Agriculture activity (meat): production</td>\n",
              "      <td>ID</td>\n",
              "      <td>2020</td>\n",
              "      <td>projected_current_policy_min</td>\n",
              "      <td>0.039300</td>\n",
              "      <td>meat kg / cap / day</td>\n",
              "    </tr>\n",
              "    <tr>\n",
              "      <th>...</th>\n",
              "      <td>...</td>\n",
              "      <td>...</td>\n",
              "      <td>...</td>\n",
              "      <td>...</td>\n",
              "      <td>...</td>\n",
              "      <td>...</td>\n",
              "      <td>...</td>\n",
              "    </tr>\n",
              "    <tr>\n",
              "      <th>41621</th>\n",
              "      <td>Transport Road</td>\n",
              "      <td>EV stock shares</td>\n",
              "      <td>SA</td>\n",
              "      <td>2050</td>\n",
              "      <td>projected_current_policy_min</td>\n",
              "      <td>48.737591</td>\n",
              "      <td>%</td>\n",
              "    </tr>\n",
              "    <tr>\n",
              "      <th>41622</th>\n",
              "      <td>Transport Road</td>\n",
              "      <td>EV stock shares</td>\n",
              "      <td>SG</td>\n",
              "      <td>2050</td>\n",
              "      <td>projected_current_policy_min</td>\n",
              "      <td>68.196849</td>\n",
              "      <td>%</td>\n",
              "    </tr>\n",
              "    <tr>\n",
              "      <th>41623</th>\n",
              "      <td>Transport Road</td>\n",
              "      <td>EV stock shares</td>\n",
              "      <td>UA</td>\n",
              "      <td>2050</td>\n",
              "      <td>projected_current_policy_min</td>\n",
              "      <td>51.839816</td>\n",
              "      <td>%</td>\n",
              "    </tr>\n",
              "    <tr>\n",
              "      <th>41624</th>\n",
              "      <td>Transport Road</td>\n",
              "      <td>EV stock shares</td>\n",
              "      <td>US</td>\n",
              "      <td>2050</td>\n",
              "      <td>projected_current_policy_min</td>\n",
              "      <td>63.852742</td>\n",
              "      <td>%</td>\n",
              "    </tr>\n",
              "    <tr>\n",
              "      <th>41625</th>\n",
              "      <td>Transport Road</td>\n",
              "      <td>EV stock shares</td>\n",
              "      <td>ZA</td>\n",
              "      <td>2050</td>\n",
              "      <td>projected_current_policy_min</td>\n",
              "      <td>34.310982</td>\n",
              "      <td>%</td>\n",
              "    </tr>\n",
              "  </tbody>\n",
              "</table>\n",
              "<p>41626 rows × 7 columns</p>\n",
              "</div>\n",
              "      <button class=\"colab-df-convert\" onclick=\"convertToInteractive('df-7a5626d9-06cc-432f-8fbc-82af373e9978')\"\n",
              "              title=\"Convert this dataframe to an interactive table.\"\n",
              "              style=\"display:none;\">\n",
              "        \n",
              "  <svg xmlns=\"http://www.w3.org/2000/svg\" height=\"24px\"viewBox=\"0 0 24 24\"\n",
              "       width=\"24px\">\n",
              "    <path d=\"M0 0h24v24H0V0z\" fill=\"none\"/>\n",
              "    <path d=\"M18.56 5.44l.94 2.06.94-2.06 2.06-.94-2.06-.94-.94-2.06-.94 2.06-2.06.94zm-11 1L8.5 8.5l.94-2.06 2.06-.94-2.06-.94L8.5 2.5l-.94 2.06-2.06.94zm10 10l.94 2.06.94-2.06 2.06-.94-2.06-.94-.94-2.06-.94 2.06-2.06.94z\"/><path d=\"M17.41 7.96l-1.37-1.37c-.4-.4-.92-.59-1.43-.59-.52 0-1.04.2-1.43.59L10.3 9.45l-7.72 7.72c-.78.78-.78 2.05 0 2.83L4 21.41c.39.39.9.59 1.41.59.51 0 1.02-.2 1.41-.59l7.78-7.78 2.81-2.81c.8-.78.8-2.07 0-2.86zM5.41 20L4 18.59l7.72-7.72 1.47 1.35L5.41 20z\"/>\n",
              "  </svg>\n",
              "      </button>\n",
              "      \n",
              "  <style>\n",
              "    .colab-df-container {\n",
              "      display:flex;\n",
              "      flex-wrap:wrap;\n",
              "      gap: 12px;\n",
              "    }\n",
              "\n",
              "    .colab-df-convert {\n",
              "      background-color: #E8F0FE;\n",
              "      border: none;\n",
              "      border-radius: 50%;\n",
              "      cursor: pointer;\n",
              "      display: none;\n",
              "      fill: #1967D2;\n",
              "      height: 32px;\n",
              "      padding: 0 0 0 0;\n",
              "      width: 32px;\n",
              "    }\n",
              "\n",
              "    .colab-df-convert:hover {\n",
              "      background-color: #E2EBFA;\n",
              "      box-shadow: 0px 1px 2px rgba(60, 64, 67, 0.3), 0px 1px 3px 1px rgba(60, 64, 67, 0.15);\n",
              "      fill: #174EA6;\n",
              "    }\n",
              "\n",
              "    [theme=dark] .colab-df-convert {\n",
              "      background-color: #3B4455;\n",
              "      fill: #D2E3FC;\n",
              "    }\n",
              "\n",
              "    [theme=dark] .colab-df-convert:hover {\n",
              "      background-color: #434B5C;\n",
              "      box-shadow: 0px 1px 3px 1px rgba(0, 0, 0, 0.15);\n",
              "      filter: drop-shadow(0px 1px 2px rgba(0, 0, 0, 0.3));\n",
              "      fill: #FFFFFF;\n",
              "    }\n",
              "  </style>\n",
              "\n",
              "      <script>\n",
              "        const buttonEl =\n",
              "          document.querySelector('#df-7a5626d9-06cc-432f-8fbc-82af373e9978 button.colab-df-convert');\n",
              "        buttonEl.style.display =\n",
              "          google.colab.kernel.accessAllowed ? 'block' : 'none';\n",
              "\n",
              "        async function convertToInteractive(key) {\n",
              "          const element = document.querySelector('#df-7a5626d9-06cc-432f-8fbc-82af373e9978');\n",
              "          const dataTable =\n",
              "            await google.colab.kernel.invokeFunction('convertToInteractive',\n",
              "                                                     [key], {});\n",
              "          if (!dataTable) return;\n",
              "\n",
              "          const docLinkHtml = 'Like what you see? Visit the ' +\n",
              "            '<a target=\"_blank\" href=https://colab.research.google.com/notebooks/data_table.ipynb>data table notebook</a>'\n",
              "            + ' to learn more about interactive tables.';\n",
              "          element.innerHTML = '';\n",
              "          dataTable['output_type'] = 'display_data';\n",
              "          await google.colab.output.renderOutput(dataTable, element);\n",
              "          const docLink = document.createElement('div');\n",
              "          docLink.innerHTML = docLinkHtml;\n",
              "          element.appendChild(docLink);\n",
              "        }\n",
              "      </script>\n",
              "    </div>\n",
              "  </div>\n",
              "  "
            ]
          },
          "metadata": {},
          "execution_count": 54
        }
      ]
    },
    {
      "cell_type": "markdown",
      "source": [
        "# Analisando dataset"
      ],
      "metadata": {
        "id": "lP_hNrACiBO2"
      }
    },
    {
      "cell_type": "code",
      "source": [
        "data.info()"
      ],
      "metadata": {
        "id": "mz4pbzIAiGT4",
        "colab": {
          "base_uri": "https://localhost:8080/"
        },
        "outputId": "189e12b9-73e0-4b86-c23a-7ae0016daacf"
      },
      "execution_count": 55,
      "outputs": [
        {
          "output_type": "stream",
          "name": "stdout",
          "text": [
            "<class 'pandas.core.frame.DataFrame'>\n",
            "RangeIndex: 41626 entries, 0 to 41625\n",
            "Data columns (total 7 columns):\n",
            " #   Column     Non-Null Count  Dtype  \n",
            "---  ------     --------------  -----  \n",
            " 0   sector     41626 non-null  object \n",
            " 1   indicator  41626 non-null  object \n",
            " 2   country    41626 non-null  object \n",
            " 3   year       41626 non-null  int64  \n",
            " 4   variable   41626 non-null  object \n",
            " 5   value      41626 non-null  float64\n",
            " 6   unit       41626 non-null  object \n",
            "dtypes: float64(1), int64(1), object(5)\n",
            "memory usage: 2.2+ MB\n"
          ]
        }
      ]
    },
    {
      "cell_type": "markdown",
      "source": [
        "Unidades"
      ],
      "metadata": {
        "id": "XobuK5IHkA5d"
      }
    },
    {
      "cell_type": "code",
      "source": [
        "data['unit'].unique()"
      ],
      "metadata": {
        "colab": {
          "base_uri": "https://localhost:8080/"
        },
        "id": "qP4ZVgv0johg",
        "outputId": "91d87280-c35d-4e0b-a02f-58a8b225d385"
      },
      "execution_count": 56,
      "outputs": [
        {
          "output_type": "execute_result",
          "data": {
            "text/plain": [
              "array(['meat kcal / cap / day', 'meat kg / cap / day', 'kcal / cap / day',\n",
              "       'tCO2e / thsd. USD2012 (PPP)', 'm2 / cap', 't CO2 / cap',\n",
              "       'kg CO2 / m2', 'kWh / m2', '% / year', 'm² / cap', 'kg CO2 / m²',\n",
              "       'kWh / cap', 'gCO2 / kWh', '% renewables',\n",
              "       '1990 value normalised to 1', '%', 'GW', 'TW',\n",
              "       '% of coal in electricity generation', '% ',\n",
              "       'ha of forest (indexed to 1990)', 't product / cap',\n",
              "       'kg CO2 / t product', '% coal', 'tCO2 / thsd. USD2012 (PPP)',\n",
              "       'tCO2 / thsd. USD2012 (MER)', 'tCO2e / cap', 'GJ (primary) / cap',\n",
              "       'GJ (final) / cap', 'thoUSnd USD2012 (PPP) / cap',\n",
              "       'TJ (primary) / mln. USD2012 (PPP)',\n",
              "       'TJ (final) / mln. USD2012 (PPP)', 'tCO2 / TJ (primary)',\n",
              "       '% fossil fuels', 'Mt CO2e ', 'million people', 'Mt CO2e',\n",
              "       't CO2 / TJ (primary)', 'thousand USD2012 (PPP) / cap',\n",
              "       'Mt CO2e (/capita)', 'Mtoe', 'tCO2e / ktoe', 'g / pkm',\n",
              "       'pkm / cap', '% biofuels or electric.', '% biofuels/elec.',\n",
              "       'EV chargers / M cap', 'charging stations / cap',\n",
              "       '% of LDVs sold / year', 'EVs / 1000 cap',\n",
              "       '% private cars and motorcycles', 'sales / M cap',\n",
              "       '% biofuels or electric', 'kg CO2 / vkm', 'number of EVs sold',\n",
              "       'number Evs sold', 't waste / cap', 'tCH4 from landfill / t waste'],\n",
              "      dtype=object)"
            ]
          },
          "metadata": {},
          "execution_count": 56
        }
      ]
    },
    {
      "cell_type": "markdown",
      "source": [
        "# Manipulando dados \n"
      ],
      "metadata": {
        "id": "4HTAyAJdgb_1"
      }
    },
    {
      "cell_type": "markdown",
      "source": [
        "Separando a emissão de kg CO2 / m² no Brasil"
      ],
      "metadata": {
        "id": "wO13rY7JtTEy"
      }
    },
    {
      "cell_type": "code",
      "source": [
        "brazilData = data.loc[data['country'] == 'BR']\n",
        "brazilDataEmission = brazilData.loc[brazilData['unit'] == 'kg CO2 / m2']"
      ],
      "metadata": {
        "id": "ov-t05VRhIrr"
      },
      "execution_count": 57,
      "outputs": []
    },
    {
      "cell_type": "code",
      "source": [
        "brazilDataEmission"
      ],
      "metadata": {
        "colab": {
          "base_uri": "https://localhost:8080/",
          "height": 419
        },
        "id": "AUzSYdbRu2zh",
        "outputId": "51e3b3da-f743-40ac-eafe-bc1d96abef16"
      },
      "execution_count": 58,
      "outputs": [
        {
          "output_type": "execute_result",
          "data": {
            "text/plain": [
              "         sector                                          indicator country  \\\n",
              "5079  Buildings  Buildings emissions intensity (per floor area,...      BR   \n",
              "5080  Buildings  Buildings emissions intensity (per floor area,...      BR   \n",
              "5081  Buildings  Buildings emissions intensity (per floor area,...      BR   \n",
              "5082  Buildings  Buildings emissions intensity (per floor area,...      BR   \n",
              "5083  Buildings  Buildings emissions intensity (per floor area,...      BR   \n",
              "...         ...                                                ...     ...   \n",
              "6183  Buildings  Buildings emissions intensity (per floor area,...      BR   \n",
              "6184  Buildings  Buildings emissions intensity (per floor area,...      BR   \n",
              "6185  Buildings  Buildings emissions intensity (per floor area,...      BR   \n",
              "6186  Buildings  Buildings emissions intensity (per floor area,...      BR   \n",
              "6187  Buildings  Buildings emissions intensity (per floor area,...      BR   \n",
              "\n",
              "      year       variable      value         unit  \n",
              "5079  2005       historic  10.000000  kg CO2 / m2  \n",
              "5080  2006       historic   9.000000  kg CO2 / m2  \n",
              "5081  2007       historic   9.000000  kg CO2 / m2  \n",
              "5082  2008       historic  10.000000  kg CO2 / m2  \n",
              "5083  2009       historic   7.000000  kg CO2 / m2  \n",
              "...    ...            ...        ...          ...  \n",
              "6183  2040  benchmark_max   0.000000  kg CO2 / m2  \n",
              "6184  2050  benchmark_max   0.000000  kg CO2 / m2  \n",
              "6185  2030  benchmark_max   4.707588  kg CO2 / m2  \n",
              "6186  2040  benchmark_max   1.883035  kg CO2 / m2  \n",
              "6187  2050  benchmark_max   0.000000  kg CO2 / m2  \n",
              "\n",
              "[82 rows x 7 columns]"
            ],
            "text/html": [
              "\n",
              "  <div id=\"df-2719f64c-ac27-45f6-9af2-0dd703d6d5de\">\n",
              "    <div class=\"colab-df-container\">\n",
              "      <div>\n",
              "<style scoped>\n",
              "    .dataframe tbody tr th:only-of-type {\n",
              "        vertical-align: middle;\n",
              "    }\n",
              "\n",
              "    .dataframe tbody tr th {\n",
              "        vertical-align: top;\n",
              "    }\n",
              "\n",
              "    .dataframe thead th {\n",
              "        text-align: right;\n",
              "    }\n",
              "</style>\n",
              "<table border=\"1\" class=\"dataframe\">\n",
              "  <thead>\n",
              "    <tr style=\"text-align: right;\">\n",
              "      <th></th>\n",
              "      <th>sector</th>\n",
              "      <th>indicator</th>\n",
              "      <th>country</th>\n",
              "      <th>year</th>\n",
              "      <th>variable</th>\n",
              "      <th>value</th>\n",
              "      <th>unit</th>\n",
              "    </tr>\n",
              "  </thead>\n",
              "  <tbody>\n",
              "    <tr>\n",
              "      <th>5079</th>\n",
              "      <td>Buildings</td>\n",
              "      <td>Buildings emissions intensity (per floor area,...</td>\n",
              "      <td>BR</td>\n",
              "      <td>2005</td>\n",
              "      <td>historic</td>\n",
              "      <td>10.000000</td>\n",
              "      <td>kg CO2 / m2</td>\n",
              "    </tr>\n",
              "    <tr>\n",
              "      <th>5080</th>\n",
              "      <td>Buildings</td>\n",
              "      <td>Buildings emissions intensity (per floor area,...</td>\n",
              "      <td>BR</td>\n",
              "      <td>2006</td>\n",
              "      <td>historic</td>\n",
              "      <td>9.000000</td>\n",
              "      <td>kg CO2 / m2</td>\n",
              "    </tr>\n",
              "    <tr>\n",
              "      <th>5081</th>\n",
              "      <td>Buildings</td>\n",
              "      <td>Buildings emissions intensity (per floor area,...</td>\n",
              "      <td>BR</td>\n",
              "      <td>2007</td>\n",
              "      <td>historic</td>\n",
              "      <td>9.000000</td>\n",
              "      <td>kg CO2 / m2</td>\n",
              "    </tr>\n",
              "    <tr>\n",
              "      <th>5082</th>\n",
              "      <td>Buildings</td>\n",
              "      <td>Buildings emissions intensity (per floor area,...</td>\n",
              "      <td>BR</td>\n",
              "      <td>2008</td>\n",
              "      <td>historic</td>\n",
              "      <td>10.000000</td>\n",
              "      <td>kg CO2 / m2</td>\n",
              "    </tr>\n",
              "    <tr>\n",
              "      <th>5083</th>\n",
              "      <td>Buildings</td>\n",
              "      <td>Buildings emissions intensity (per floor area,...</td>\n",
              "      <td>BR</td>\n",
              "      <td>2009</td>\n",
              "      <td>historic</td>\n",
              "      <td>7.000000</td>\n",
              "      <td>kg CO2 / m2</td>\n",
              "    </tr>\n",
              "    <tr>\n",
              "      <th>...</th>\n",
              "      <td>...</td>\n",
              "      <td>...</td>\n",
              "      <td>...</td>\n",
              "      <td>...</td>\n",
              "      <td>...</td>\n",
              "      <td>...</td>\n",
              "      <td>...</td>\n",
              "    </tr>\n",
              "    <tr>\n",
              "      <th>6183</th>\n",
              "      <td>Buildings</td>\n",
              "      <td>Buildings emissions intensity (per floor area,...</td>\n",
              "      <td>BR</td>\n",
              "      <td>2040</td>\n",
              "      <td>benchmark_max</td>\n",
              "      <td>0.000000</td>\n",
              "      <td>kg CO2 / m2</td>\n",
              "    </tr>\n",
              "    <tr>\n",
              "      <th>6184</th>\n",
              "      <td>Buildings</td>\n",
              "      <td>Buildings emissions intensity (per floor area,...</td>\n",
              "      <td>BR</td>\n",
              "      <td>2050</td>\n",
              "      <td>benchmark_max</td>\n",
              "      <td>0.000000</td>\n",
              "      <td>kg CO2 / m2</td>\n",
              "    </tr>\n",
              "    <tr>\n",
              "      <th>6185</th>\n",
              "      <td>Buildings</td>\n",
              "      <td>Buildings emissions intensity (per floor area,...</td>\n",
              "      <td>BR</td>\n",
              "      <td>2030</td>\n",
              "      <td>benchmark_max</td>\n",
              "      <td>4.707588</td>\n",
              "      <td>kg CO2 / m2</td>\n",
              "    </tr>\n",
              "    <tr>\n",
              "      <th>6186</th>\n",
              "      <td>Buildings</td>\n",
              "      <td>Buildings emissions intensity (per floor area,...</td>\n",
              "      <td>BR</td>\n",
              "      <td>2040</td>\n",
              "      <td>benchmark_max</td>\n",
              "      <td>1.883035</td>\n",
              "      <td>kg CO2 / m2</td>\n",
              "    </tr>\n",
              "    <tr>\n",
              "      <th>6187</th>\n",
              "      <td>Buildings</td>\n",
              "      <td>Buildings emissions intensity (per floor area,...</td>\n",
              "      <td>BR</td>\n",
              "      <td>2050</td>\n",
              "      <td>benchmark_max</td>\n",
              "      <td>0.000000</td>\n",
              "      <td>kg CO2 / m2</td>\n",
              "    </tr>\n",
              "  </tbody>\n",
              "</table>\n",
              "<p>82 rows × 7 columns</p>\n",
              "</div>\n",
              "      <button class=\"colab-df-convert\" onclick=\"convertToInteractive('df-2719f64c-ac27-45f6-9af2-0dd703d6d5de')\"\n",
              "              title=\"Convert this dataframe to an interactive table.\"\n",
              "              style=\"display:none;\">\n",
              "        \n",
              "  <svg xmlns=\"http://www.w3.org/2000/svg\" height=\"24px\"viewBox=\"0 0 24 24\"\n",
              "       width=\"24px\">\n",
              "    <path d=\"M0 0h24v24H0V0z\" fill=\"none\"/>\n",
              "    <path d=\"M18.56 5.44l.94 2.06.94-2.06 2.06-.94-2.06-.94-.94-2.06-.94 2.06-2.06.94zm-11 1L8.5 8.5l.94-2.06 2.06-.94-2.06-.94L8.5 2.5l-.94 2.06-2.06.94zm10 10l.94 2.06.94-2.06 2.06-.94-2.06-.94-.94-2.06-.94 2.06-2.06.94z\"/><path d=\"M17.41 7.96l-1.37-1.37c-.4-.4-.92-.59-1.43-.59-.52 0-1.04.2-1.43.59L10.3 9.45l-7.72 7.72c-.78.78-.78 2.05 0 2.83L4 21.41c.39.39.9.59 1.41.59.51 0 1.02-.2 1.41-.59l7.78-7.78 2.81-2.81c.8-.78.8-2.07 0-2.86zM5.41 20L4 18.59l7.72-7.72 1.47 1.35L5.41 20z\"/>\n",
              "  </svg>\n",
              "      </button>\n",
              "      \n",
              "  <style>\n",
              "    .colab-df-container {\n",
              "      display:flex;\n",
              "      flex-wrap:wrap;\n",
              "      gap: 12px;\n",
              "    }\n",
              "\n",
              "    .colab-df-convert {\n",
              "      background-color: #E8F0FE;\n",
              "      border: none;\n",
              "      border-radius: 50%;\n",
              "      cursor: pointer;\n",
              "      display: none;\n",
              "      fill: #1967D2;\n",
              "      height: 32px;\n",
              "      padding: 0 0 0 0;\n",
              "      width: 32px;\n",
              "    }\n",
              "\n",
              "    .colab-df-convert:hover {\n",
              "      background-color: #E2EBFA;\n",
              "      box-shadow: 0px 1px 2px rgba(60, 64, 67, 0.3), 0px 1px 3px 1px rgba(60, 64, 67, 0.15);\n",
              "      fill: #174EA6;\n",
              "    }\n",
              "\n",
              "    [theme=dark] .colab-df-convert {\n",
              "      background-color: #3B4455;\n",
              "      fill: #D2E3FC;\n",
              "    }\n",
              "\n",
              "    [theme=dark] .colab-df-convert:hover {\n",
              "      background-color: #434B5C;\n",
              "      box-shadow: 0px 1px 3px 1px rgba(0, 0, 0, 0.15);\n",
              "      filter: drop-shadow(0px 1px 2px rgba(0, 0, 0, 0.3));\n",
              "      fill: #FFFFFF;\n",
              "    }\n",
              "  </style>\n",
              "\n",
              "      <script>\n",
              "        const buttonEl =\n",
              "          document.querySelector('#df-2719f64c-ac27-45f6-9af2-0dd703d6d5de button.colab-df-convert');\n",
              "        buttonEl.style.display =\n",
              "          google.colab.kernel.accessAllowed ? 'block' : 'none';\n",
              "\n",
              "        async function convertToInteractive(key) {\n",
              "          const element = document.querySelector('#df-2719f64c-ac27-45f6-9af2-0dd703d6d5de');\n",
              "          const dataTable =\n",
              "            await google.colab.kernel.invokeFunction('convertToInteractive',\n",
              "                                                     [key], {});\n",
              "          if (!dataTable) return;\n",
              "\n",
              "          const docLinkHtml = 'Like what you see? Visit the ' +\n",
              "            '<a target=\"_blank\" href=https://colab.research.google.com/notebooks/data_table.ipynb>data table notebook</a>'\n",
              "            + ' to learn more about interactive tables.';\n",
              "          element.innerHTML = '';\n",
              "          dataTable['output_type'] = 'display_data';\n",
              "          await google.colab.output.renderOutput(dataTable, element);\n",
              "          const docLink = document.createElement('div');\n",
              "          docLink.innerHTML = docLinkHtml;\n",
              "          element.appendChild(docLink);\n",
              "        }\n",
              "      </script>\n",
              "    </div>\n",
              "  </div>\n",
              "  "
            ]
          },
          "metadata": {},
          "execution_count": 58
        }
      ]
    },
    {
      "cell_type": "markdown",
      "source": [
        "# Taxa de transmissão de co2 por m² em relação aos paises\n"
      ],
      "metadata": {
        "id": "_Q8W5WXbhY6z"
      }
    },
    {
      "cell_type": "code",
      "source": [
        "plt.figure(figsize=(25, 10))\n",
        "\n",
        "emissonData = data.loc[data['unit'] == 'kg CO2 / m2']\n",
        "\n",
        "values = emissonData.groupby('country')['value'].sum()\n",
        "\n",
        "plt.title('taxa de emissão de kg CO2 / m2 ')\n",
        "plt.xlabel('Paises')\n",
        "plt.ylabel('emissão de kg CO2 / m2')\n",
        "plt.scatter(emissonData['country'].unique(),values)\n",
        "plt.plot( emissonData['country'].unique(),values)"
      ],
      "metadata": {
        "id": "D--VT4nchrMq",
        "colab": {
          "base_uri": "https://localhost:8080/",
          "height": 638
        },
        "outputId": "04a66a8d-88ef-4dfd-ea3e-8f9cadccd69e"
      },
      "execution_count": 71,
      "outputs": [
        {
          "output_type": "execute_result",
          "data": {
            "text/plain": [
              "[<matplotlib.lines.Line2D at 0x7f8427b31f10>]"
            ]
          },
          "metadata": {},
          "execution_count": 71
        },
        {
          "output_type": "display_data",
          "data": {
            "text/plain": [
              "<Figure size 1800x720 with 1 Axes>"
            ],
            "image/png": "[encoded data removed]"
          },
          "metadata": {
            "needs_background": "light"
          }
        }
      ]
    },
    {
      "cell_type": "markdown",
      "source": [
        "# Previsão com regressão linear na taxa de emissão de co2/m² no Brasil "
      ],
      "metadata": {
        "id": "8X9Nq2yphyA7"
      }
    },
    {
      "cell_type": "code",
      "source": [
        "X = brazilDataEmission.loc[:, brazilDataEmission.columns.intersection(['year'])]\n",
        "y = brazilDataEmission['value']"
      ],
      "metadata": {
        "id": "Vwf0Ipywh38X"
      },
      "execution_count": 60,
      "outputs": []
    },
    {
      "cell_type": "markdown",
      "source": [
        "Separando as variaveis de treino e de test."
      ],
      "metadata": {
        "id": "SsJIFkLCl1HS"
      }
    },
    {
      "cell_type": "code",
      "source": [
        "Xtrain, XTest, ytrain, yTest = train_test_split(X,y, test_size=0.3, random_state=0)\n",
        "print(Xtrain.shape, XTest.shape, ytrain.shape, yTest.shape)"
      ],
      "metadata": {
        "id": "k_HHjaKal2C5",
        "colab": {
          "base_uri": "https://localhost:8080/"
        },
        "outputId": "2898f7f6-240d-4ba5-e776-3addf8d8e66b"
      },
      "execution_count": 62,
      "outputs": [
        {
          "output_type": "stream",
          "name": "stdout",
          "text": [
            "(57, 1) (25, 1) (57,) (25,)\n"
          ]
        }
      ]
    },
    {
      "cell_type": "markdown",
      "source": [
        "Treinando modelo a partir dos dados de treino"
      ],
      "metadata": {
        "id": "y3Cs_xbQmUw_"
      }
    },
    {
      "cell_type": "code",
      "source": [
        "model = LinearRegression()\n",
        "model.fit(Xtrain, ytrain)"
      ],
      "metadata": {
        "id": "zJ4F3jV-mOMP",
        "colab": {
          "base_uri": "https://localhost:8080/"
        },
        "outputId": "ad4c0613-cee6-4cde-f6f1-a2babfa365f0"
      },
      "execution_count": 63,
      "outputs": [
        {
          "output_type": "execute_result",
          "data": {
            "text/plain": [
              "LinearRegression()"
            ]
          },
          "metadata": {},
          "execution_count": 63
        }
      ]
    },
    {
      "cell_type": "markdown",
      "source": [
        "Prevendo dados de teste"
      ],
      "metadata": {
        "id": "rEQA6T0omqZO"
      }
    },
    {
      "cell_type": "code",
      "source": [
        "dataPredict = model.predict(XTest)"
      ],
      "metadata": {
        "id": "zXbyhIcNmrQd"
      },
      "execution_count": 64,
      "outputs": []
    },
    {
      "cell_type": "markdown",
      "source": [
        "Fazendo a acuracia dos dados previstos"
      ],
      "metadata": {
        "id": "M9_PctLamcpR"
      }
    },
    {
      "cell_type": "code",
      "source": [
        "absolute_error = mean_absolute_error(yTest,dataPredict)\n",
        "print(f\"Acurácia de Teste: ± {absolute_error:1.0f}\")"
      ],
      "metadata": {
        "id": "C2Lob2TYmp23",
        "colab": {
          "base_uri": "https://localhost:8080/"
        },
        "outputId": "bd0cc9c7-7807-485c-faff-b29a78da7f30"
      },
      "execution_count": 65,
      "outputs": [
        {
          "output_type": "stream",
          "name": "stdout",
          "text": [
            "Acurácia de Teste: ± 10\n"
          ]
        }
      ]
    },
    {
      "cell_type": "code",
      "source": [
        "#plt.xlabel('setor')\n",
        "#plt.ylabel('valor de consumo')\n",
        "plt.scatter(XTest,yTest)\n",
        "plt.plot(XTest,dataPredict)"
      ],
      "metadata": {
        "colab": {
          "base_uri": "https://localhost:8080/",
          "height": 282
        },
        "id": "jaZ_vxVZw09t",
        "outputId": "2dcc0e27-6a39-4bd5-bda1-4bc587555c54"
      },
      "execution_count": 66,
      "outputs": [
        {
          "output_type": "execute_result",
          "data": {
            "text/plain": [
              "[<matplotlib.lines.Line2D at 0x7f84295d03d0>]"
            ]
          },
          "metadata": {},
          "execution_count": 66
        },
        {
          "output_type": "display_data",
          "data": {
            "text/plain": [
              "<Figure size 432x288 with 1 Axes>"
            ],
            "image/png": "[encoded data removed]"
          },
          "metadata": {
            "needs_background": "light"
          }
        }
      ]
    }
  ]
}